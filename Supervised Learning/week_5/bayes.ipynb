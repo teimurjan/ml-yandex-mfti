{
 "cells": [
  {
   "cell_type": "code",
   "execution_count": 9,
   "metadata": {
    "collapsed": true
   },
   "outputs": [],
   "source": [
    "from sklearn.datasets import load_breast_cancer, load_digits\n",
    "from sklearn.model_selection import cross_val_score\n",
    "from sklearn.naive_bayes import BernoulliNB, MultinomialNB, GaussianNB\n",
    "\n",
    "def write_answer(n, value):\n",
    "    with open('{}.gb.txt'.format(n), 'w') as f:\n",
    "        f.write(str(value))"
   ]
  },
  {
   "cell_type": "markdown",
   "metadata": {},
   "source": [
    "### Load datasets and calculate cross_val_score"
   ]
  },
  {
   "cell_type": "code",
   "execution_count": 10,
   "metadata": {},
   "outputs": [],
   "source": [
    "breast_cancer = load_breast_cancer()\n",
    "digits = load_digits()\n",
    "\n",
    "scores_of = {'digits': [], 'breast_cancer': []}\n",
    "for model in [BernoulliNB(), MultinomialNB(), GaussianNB()]:\n",
    "    scores_of['digits'].append(\n",
    "        cross_val_score(model, X=digits.data, y=digits.target).mean()\n",
    "    )\n",
    "    scores_of['breast_cancer'].append(\n",
    "        cross_val_score(model, X=breast_cancer.data, y=breast_cancer.target).mean()\n",
    "    )\n"
   ]
  },
  {
   "cell_type": "code",
   "execution_count": 11,
   "metadata": {
    "collapsed": true
   },
   "outputs": [],
   "source": [
    "write_answer(1, max(scores_of['breast_cancer']))\n",
    "write_answer(2, max(scores_of['digits']))\n",
    "write_answer(3, '3 4')"
   ]
  }
 ],
 "metadata": {
  "kernelspec": {
   "display_name": "Python 2",
   "language": "python",
   "name": "python2"
  },
  "language_info": {
   "codemirror_mode": {
    "name": "ipython",
    "version": 2
   },
   "file_extension": ".py",
   "mimetype": "text/x-python",
   "name": "python",
   "nbconvert_exporter": "python",
   "pygments_lexer": "ipython2",
   "version": "2.7.14"
  }
 },
 "nbformat": 4,
 "nbformat_minor": 2
}
