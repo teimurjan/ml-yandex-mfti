{
 "cells": [
  {
   "cell_type": "code",
   "execution_count": 10,
   "metadata": {},
   "outputs": [],
   "source": [
    "from numpy import sin, exp\n",
    "from scipy.linalg import solve\n",
    "\n",
    "f_x = lambda x: sin(x / 5.0) * exp(x / 10.0) + 5 * exp(-x / 2.0)\n",
    "\n",
    "get_polynom_matrix = lambda rank = 1, points = (1,15): [\n",
    "    [point ** n for n in range(0, rank + 1)] for point in points\n",
    "]\n",
    "\n",
    "X_1 = get_polynom_matrix()\n",
    "y_1 = [f_x(1), f_x(15)]\n",
    "\n",
    "X_2 = get_polynom_matrix(rank = 2, points = (1, 8, 15))\n",
    "y_2 = [f_x(1), f_x(8), f_x(15)]\n",
    "\n",
    "X_3 = get_polynom_matrix(rank = 3, points = (1, 4, 10, 15))\n",
    "y_3 = [f_x(1), f_x(4), f_x(10), f_x(15)]\n",
    "\n",
    "solution_3 = solve(X_3, y_3)\n",
    "\n",
    "with open('submission_2.txt', 'w') as file:\n",
    "    file.write(' '.join(str(x) for x in solution_3))"
   ]
  },
  {
   "cell_type": "code",
   "execution_count": null,
   "metadata": {
    "collapsed": true
   },
   "outputs": [],
   "source": []
  }
 ],
 "metadata": {
  "kernelspec": {
   "display_name": "Python 2",
   "language": "python",
   "name": "python2"
  },
  "language_info": {
   "codemirror_mode": {
    "name": "ipython",
    "version": 2
   },
   "file_extension": ".py",
   "mimetype": "text/x-python",
   "name": "python",
   "nbconvert_exporter": "python",
   "pygments_lexer": "ipython2",
   "version": "2.7.14"
  }
 },
 "nbformat": 4,
 "nbformat_minor": 2
}
