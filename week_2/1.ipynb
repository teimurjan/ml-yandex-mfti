{
 "cells": [
  {
   "cell_type": "code",
   "execution_count": 110,
   "metadata": {},
   "outputs": [],
   "source": [
    "import re\n",
    "import numpy as np\n",
    "import pandas as pd\n",
    "from scipy.spatial.distance import cosine\n",
    "\n",
    "def break_into_words(s):\n",
    "    return [word for word in re.split('[^a-z]', s) if word != '']\n",
    "\n",
    "text = ''\n",
    "with open('sentences.txt', 'r') as file:\n",
    "    text = file.read().lower()\n",
    "\n",
    "lines = text.split('\\n')\n",
    "lines.pop()\n",
    "lines = map(break_into_words, lines)\n",
    "\n",
    "word_occurrence_counts = {}\n",
    "for word in break_into_words(text):\n",
    "    if word_occurrence_counts.get(word):\n",
    "        word_occurrence_counts[word] += 1\n",
    "    else:\n",
    "        word_occurrence_counts[word] = 1\n",
    "\n",
    "matrix = np.zeros((len(lines), len(word_occurrence_counts)))\n",
    "for i, line in enumerate(lines):\n",
    "    for j, word in enumerate(word_occurrence_counts):\n",
    "        matrix[i, j] = line.count(word)\n",
    "        \n",
    "'''\n",
    "In order to see clear representation of the counted matrix\n",
    "df = pd.DataFrame(matrix, columns=word_occurrence_counts.keys())\n",
    "''' \n",
    "\n",
    "distances = map(lambda sentence: cosine(matrix[0], sentence), matrix) \n",
    "sorted_distances = distances[1:]\n",
    "sorted_distances.sort()\n",
    "min_range_1, min_range_2 = sorted_distances[0], sorted_distances[1]\n",
    "\n",
    "with open('submission_1.txt', 'w') as file:\n",
    "    file.write('{} {}'.format(distances.index(min_range_1), \n",
    "                              distances.index(min_range_2)))"
   ]
  },
  {
   "cell_type": "code",
   "execution_count": null,
   "metadata": {
    "collapsed": true
   },
   "outputs": [],
   "source": []
  },
  {
   "cell_type": "code",
   "execution_count": null,
   "metadata": {
    "collapsed": true
   },
   "outputs": [],
   "source": []
  }
 ],
 "metadata": {
  "kernelspec": {
   "display_name": "Python 2",
   "language": "python",
   "name": "python2"
  },
  "language_info": {
   "codemirror_mode": {
    "name": "ipython",
    "version": 2
   },
   "file_extension": ".py",
   "mimetype": "text/x-python",
   "name": "python",
   "nbconvert_exporter": "python",
   "pygments_lexer": "ipython2",
   "version": "2.7.14"
  }
 },
 "nbformat": 4,
 "nbformat_minor": 2
}
