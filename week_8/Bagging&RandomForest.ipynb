{
 "cells": [
  {
   "cell_type": "code",
   "execution_count": 65,
   "metadata": {
    "collapsed": true
   },
   "outputs": [],
   "source": [
    "%matplotlib inline\n",
    "\n",
    "from sklearn.datasets import load_digits\n",
    "from sklearn.model_selection import cross_val_score\n",
    "from sklearn.tree import DecisionTreeClassifier\n",
    "from sklearn.ensemble import BaggingClassifier, RandomForestClassifier\n",
    "import numpy as np\n",
    "import matplotlib.pyplot as plt\n",
    "\n",
    "def write_answer(n, value):\n",
    "    with open('{}.bagging.txt'.format(n), 'w') as f:\n",
    "        f.write(str(value))\n",
    "\n",
    "digits = load_digits()\n",
    "X, y = digits.data, digits.target"
   ]
  },
  {
   "cell_type": "markdown",
   "metadata": {},
   "source": [
    "### Default DecisionTreeClassifier"
   ]
  },
  {
   "cell_type": "code",
   "execution_count": 66,
   "metadata": {},
   "outputs": [
    {
     "data": {
      "text/plain": [
       "0.82584469845451847"
      ]
     },
     "execution_count": 66,
     "metadata": {},
     "output_type": "execute_result"
    }
   ],
   "source": [
    "classifier = DecisionTreeClassifier()\n",
    "score = cross_val_score(classifier, X, y, cv=10, n_jobs=-1)\n",
    "mean_score = score.mean()\n",
    "write_answer(1, mean_score)\n",
    "mean_score"
   ]
  },
  {
   "cell_type": "markdown",
   "metadata": {},
   "source": [
    "### BaggingClassifier with n_estimators=100"
   ]
  },
  {
   "cell_type": "code",
   "execution_count": 67,
   "metadata": {},
   "outputs": [
    {
     "data": {
      "text/plain": [
       "0.92205909762853611"
      ]
     },
     "execution_count": 67,
     "metadata": {},
     "output_type": "execute_result"
    }
   ],
   "source": [
    "classifier = BaggingClassifier(n_estimators=100)\n",
    "score = cross_val_score(classifier, X, y, cv=10, n_jobs=-1)\n",
    "mean_score = score.mean()\n",
    "write_answer(2, mean_score)\n",
    "mean_score"
   ]
  },
  {
   "cell_type": "markdown",
   "metadata": {},
   "source": [
    "### BaggingClassifier with max_features=$\\sqrt{d}$"
   ]
  },
  {
   "cell_type": "code",
   "execution_count": 68,
   "metadata": {},
   "outputs": [
    {
     "data": {
      "text/plain": [
       "0.92433537491024809"
      ]
     },
     "execution_count": 68,
     "metadata": {},
     "output_type": "execute_result"
    }
   ],
   "source": [
    "max_features = int(np.sqrt(X.shape[1]))\n",
    "classifier = BaggingClassifier(max_features=max_features, n_estimators=100)\n",
    "score = cross_val_score(classifier, X, y, cv=10, n_jobs=-1)\n",
    "mean_score = score.mean()\n",
    "write_answer(3, mean_score)\n",
    "mean_score"
   ]
  },
  {
   "cell_type": "markdown",
   "metadata": {},
   "source": [
    "### BaggingClassifier with custom estimator"
   ]
  },
  {
   "cell_type": "code",
   "execution_count": 69,
   "metadata": {},
   "outputs": [
    {
     "data": {
      "text/plain": [
       "0.95059120872300329"
      ]
     },
     "execution_count": 69,
     "metadata": {},
     "output_type": "execute_result"
    }
   ],
   "source": [
    "max_features = int(np.sqrt(X.shape[1]))\n",
    "estimator = DecisionTreeClassifier(max_features=max_features)\n",
    "classifier = BaggingClassifier(estimator, n_estimators=100)\n",
    "score = cross_val_score(classifier, X, y, cv=10, n_jobs=-1)\n",
    "mean_score = score.mean()\n",
    "write_answer(4, mean_score)\n",
    "mean_score"
   ]
  },
  {
   "cell_type": "markdown",
   "metadata": {},
   "source": [
    "### Ananlyzing data"
   ]
  },
  {
   "cell_type": "code",
   "execution_count": 49,
   "metadata": {},
   "outputs": [
    {
     "data": {
      "text/plain": [
       "Text(0,0.5,u'n_estimators')"
      ]
     },
     "execution_count": 49,
     "metadata": {},
     "output_type": "execute_result"
    },
    {
     "data": {
      "image/png": "[encoded data removed]",
      "text/plain": [
       "<matplotlib.figure.Figure at 0x1a1db525d0>"
      ]
     },
     "metadata": {},
     "output_type": "display_data"
    }
   ],
   "source": [
    "scores = []\n",
    "ns = [5, 10, 15, 100, 200]\n",
    "for n_estimators in ns:\n",
    "    classifier = RandomForestClassifier(n_estimators=n_estimators, max_features=max_features)\n",
    "    score = cross_val_score(classifier, X, y, cv=10, n_jobs=-1)\n",
    "    scores.append(score.mean())\n",
    "\n",
    "plt.plot(scores, ns)\n",
    "plt.xlabel('accuracy')\n",
    "plt.ylabel('n_estimators')"
   ]
  },
  {
   "cell_type": "code",
   "execution_count": 43,
   "metadata": {},
   "outputs": [
    {
     "data": {
      "text/plain": [
       "Text(0,0.5,u'max_features')"
      ]
     },
     "execution_count": 43,
     "metadata": {},
     "output_type": "execute_result"
    },
    {
     "data": {
      "image/png": "[encoded data removed]",
      "text/plain": [
       "<matplotlib.figure.Figure at 0x1108a75d0>"
      ]
     },
     "metadata": {},
     "output_type": "display_data"
    }
   ],
   "source": [
    "scores = []\n",
    "features_count = [5, 10, 40, 50]\n",
    "for max_features in features_count:\n",
    "    classifier = RandomForestClassifier(n_estimators=100, max_features=max_features)\n",
    "    score = cross_val_score(classifier, X, y, cv=10, n_jobs=-1)\n",
    "    scores.append(score.mean())\n",
    "    \n",
    "plt.plot(scores, features_count)\n",
    "plt.xlabel('accuracy')\n",
    "plt.ylabel('max_features')"
   ]
  },
  {
   "cell_type": "code",
   "execution_count": 59,
   "metadata": {},
   "outputs": [
    {
     "data": {
      "text/plain": [
       "Text(0,0.5,u'max_depth')"
      ]
     },
     "execution_count": 59,
     "metadata": {},
     "output_type": "execute_result"
    },
    {
     "data": {
      "image/png": "[encoded data removed]",
      "text/plain": [
       "<matplotlib.figure.Figure at 0x1a1da7c4d0>"
      ]
     },
     "metadata": {},
     "output_type": "display_data"
    }
   ],
   "source": [
    "max_features = int(np.sqrt(X.shape[1]))\n",
    "scores = []\n",
    "depths = [5, 6, 20]\n",
    "for max_depth in depths:\n",
    "    classifier = RandomForestClassifier(n_estimators=100, max_features=max_features, max_depth=max_depth)\n",
    "    score = cross_val_score(classifier, X, y, cv=10, n_jobs=-1)\n",
    "    scores.append(score.mean())\n",
    "    \n",
    "plt.plot(scores, depths)\n",
    "plt.xlabel('accuracy')\n",
    "plt.ylabel('max_depth')"
   ]
  },
  {
   "cell_type": "code",
   "execution_count": 50,
   "metadata": {
    "collapsed": true
   },
   "outputs": [],
   "source": [
    "write_answer(5, '2 3 4 7')"
   ]
  }
 ],
 "metadata": {
  "kernelspec": {
   "display_name": "Python 2",
   "language": "python",
   "name": "python2"
  },
  "language_info": {
   "codemirror_mode": {
    "name": "ipython",
    "version": 2
   },
   "file_extension": ".py",
   "mimetype": "text/x-python",
   "name": "python",
   "nbconvert_exporter": "python",
   "pygments_lexer": "ipython2",
   "version": "2.7.14"
  }
 },
 "nbformat": 4,
 "nbformat_minor": 2
}
